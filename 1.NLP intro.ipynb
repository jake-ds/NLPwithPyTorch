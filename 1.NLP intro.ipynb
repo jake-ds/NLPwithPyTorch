{
 "cells": [
  {
   "cell_type": "markdown",
   "id": "b643a778-e304-4f5a-8b21-34852bb08eb9",
   "metadata": {},
   "source": [
    "### Term Frequency"
   ]
  },
  {
   "cell_type": "code",
   "execution_count": 7,
   "id": "6037005d-c946-4674-8934-4cf8c8d2c88c",
   "metadata": {},
   "outputs": [
    {
     "data": {
      "text/plain": [
       "<AxesSubplot:>"
      ]
     },
     "execution_count": 7,
     "metadata": {},
     "output_type": "execute_result"
    },
    {
     "data": {
      "image/png": "[encoded data removed]",
      "text/plain": [
       "<Figure size 432x288 with 1 Axes>"
      ]
     },
     "metadata": {
      "needs_background": "light"
     },
     "output_type": "display_data"
    }
   ],
   "source": [
    "from sklearn.feature_extraction.text import CountVectorizer\n",
    "import seaborn as sns\n",
    "\n",
    "corpus = [\"Time flies like an arrow\",\n",
    "         \"Fruit flies like a banana\"]\n",
    "\n",
    "one_hot_vectorizer = CountVectorizer(binary=True)\n",
    "one_hot = one_hot_vectorizer.fit_transform(corpus).toarray()\n",
    "vocab = one_hot_vectorizer.get_feature_names()\n",
    "\n",
    "sns.heatmap(one_hot, annot=True, \n",
    "           cbar=False, xticklabels=vocab,\n",
    "           yticklabels=[\"Sentence 1\", \"Sentence 2\"])"
   ]
  },
  {
   "cell_type": "markdown",
   "id": "e06ef859-e760-43bf-9abc-e22921f2cb19",
   "metadata": {},
   "source": [
    "### TF-IDF Representation\n",
    "- IDF : Inverse-Document-Frequency\n",
    "- 해당 문서에만 등장하는 단어가 중요단어라는 가정. 드문 토큰의 점수를 높게한다. "
   ]
  },
  {
   "cell_type": "code",
   "execution_count": 10,
   "id": "509ed684-fe3b-44f9-9cbc-209a97dc5195",
   "metadata": {},
   "outputs": [
    {
     "data": {
      "text/plain": [
       "<AxesSubplot:>"
      ]
     },
     "execution_count": 10,
     "metadata": {},
     "output_type": "execute_result"
    },
    {
     "data": {
      "image/png": "[encoded data removed]",
      "text/plain": [
       "<Figure size 432x288 with 1 Axes>"
      ]
     },
     "metadata": {
      "needs_background": "light"
     },
     "output_type": "display_data"
    }
   ],
   "source": [
    "from sklearn.feature_extraction.text import TfidfVectorizer\n",
    "import seaborn as sns\n",
    "\n",
    "tfidf_vectorizer = TfidfVectorizer()\n",
    "tfidf = tfidf_vectorizer.fit_transform(corpus).toarray()\n",
    "sns.heatmap(tfidf, annot=True, \n",
    "           cbar=False, xticklabels=vocab,\n",
    "           yticklabels=[\"Sentence 1\", \"Sentence 2\"])"
   ]
  },
  {
   "cell_type": "markdown",
   "id": "ce99b582-34ea-4de3-8d20-39091f2ef8ab",
   "metadata": {},
   "source": [
    "### pytorch로 Tensor 다루기"
   ]
  },
  {
   "cell_type": "code",
   "execution_count": 17,
   "id": "21bdb0e0-9d81-4619-886b-2bc7fbd07dd5",
   "metadata": {},
   "outputs": [],
   "source": [
    "def describe(x):\n",
    "    print(\"타입 : {}\".format(x.type()))\n",
    "    print(\"크기 : {}\".format(x.shape))\n",
    "    print(\"값 : {}\".format(x)) "
   ]
  },
  {
   "cell_type": "markdown",
   "id": "fd3e1715-f976-42a8-a509-6a9e35de54a7",
   "metadata": {},
   "source": [
    "#### tensor 생성하기"
   ]
  },
  {
   "cell_type": "code",
   "execution_count": 30,
   "id": "dc072a59-7f26-4374-9ff5-0073a6d3e969",
   "metadata": {},
   "outputs": [
    {
     "name": "stdout",
     "output_type": "stream",
     "text": [
      "타입 : torch.FloatTensor\n",
      "크기 : torch.Size([2, 3])\n",
      "값 : tensor([[0., 0., 0.],\n",
      "        [0., 0., 0.]])\n",
      "타입 : torch.FloatTensor\n",
      "크기 : torch.Size([2, 3])\n",
      "값 : tensor([[0.4899, 0.6865, 0.6288],\n",
      "        [0.3737, 0.0101, 0.4498]])\n",
      "타입 : torch.FloatTensor\n",
      "크기 : torch.Size([2, 3])\n",
      "값 : tensor([[0.3672, 1.9622, 1.1769],\n",
      "        [0.6963, 0.1883, 0.8003]])\n"
     ]
    }
   ],
   "source": [
    "import torch\n",
    "\n",
    "describe(torch.Tensor(2,3))\n",
    "\n",
    "# 랜덤 초기화\n",
    "## 균등분포\n",
    "describe(torch.rand(2,3))\n",
    "## 표준정규분포\n",
    "describe(torch.randn(2,3))"
   ]
  },
  {
   "cell_type": "code",
   "execution_count": 31,
   "id": "08839bda-3aae-4d77-b7d5-17416d671338",
   "metadata": {},
   "outputs": [
    {
     "name": "stdout",
     "output_type": "stream",
     "text": [
      "타입 : torch.FloatTensor\n",
      "크기 : torch.Size([2, 3])\n",
      "값 : tensor([[0., 0., 0.],\n",
      "        [0., 0., 0.]])\n",
      "타입 : torch.FloatTensor\n",
      "크기 : torch.Size([2, 3])\n",
      "값 : tensor([[1., 1., 1.],\n",
      "        [1., 1., 1.]])\n",
      "타입 : torch.FloatTensor\n",
      "크기 : torch.Size([2, 3])\n",
      "값 : tensor([[5., 5., 5.],\n",
      "        [5., 5., 5.]])\n"
     ]
    }
   ],
   "source": [
    "# 스칼라 값으로 초기화\n",
    "describe(torch.zeros(2,3))\n",
    "x = torch.ones(2,3)\n",
    "describe(x)\n",
    "x.fill_(5)\n",
    "describe(x)"
   ]
  },
  {
   "cell_type": "code",
   "execution_count": 32,
   "id": "0de68d9c-36cb-4974-a0a0-152fe19588fd",
   "metadata": {},
   "outputs": [
    {
     "name": "stdout",
     "output_type": "stream",
     "text": [
      "타입 : torch.LongTensor\n",
      "크기 : torch.Size([2, 3])\n",
      "값 : tensor([[1, 2, 3],\n",
      "        [4, 5, 6]])\n"
     ]
    }
   ],
   "source": [
    "# 리스트로 텐서만들기\n",
    "x = torch.tensor([[1,2,3],\n",
    "                 [4,5,6]])\n",
    "\n",
    "describe(x)"
   ]
  },
  {
   "cell_type": "code",
   "execution_count": 34,
   "id": "663f9ff1-b252-4ead-b108-892ff0ac145d",
   "metadata": {},
   "outputs": [
    {
     "name": "stdout",
     "output_type": "stream",
     "text": [
      "타입 : torch.DoubleTensor\n",
      "크기 : torch.Size([2, 3])\n",
      "값 : tensor([[0.1225, 0.3456, 0.8341],\n",
      "        [0.3395, 0.8659, 0.2705]], dtype=torch.float64)\n"
     ]
    }
   ],
   "source": [
    "# numpy로 텐서만들기\n",
    "import numpy as np\n",
    "\n",
    "npy = np.random.rand(2,3)\n",
    "describe(torch.from_numpy(npy))"
   ]
  },
  {
   "cell_type": "markdown",
   "id": "3c428a69-686c-4e8e-b8f5-b6b316985a91",
   "metadata": {},
   "source": [
    "#### 텐서의 타입과 크기"
   ]
  },
  {
   "cell_type": "code",
   "execution_count": 36,
   "id": "57282f33-dc96-49ff-9b03-237a2442ad71",
   "metadata": {},
   "outputs": [
    {
     "name": "stdout",
     "output_type": "stream",
     "text": [
      "타입 : torch.FloatTensor\n",
      "크기 : torch.Size([2, 3])\n",
      "값 : tensor([[1., 2., 3.],\n",
      "        [4., 5., 6.]])\n"
     ]
    }
   ],
   "source": [
    "x = torch.FloatTensor([[1,2,3],\n",
    "                      [4,5,6]])\n",
    "\n",
    "describe(x)"
   ]
  },
  {
   "cell_type": "code",
   "execution_count": 37,
   "id": "0396ebeb-5304-4ada-996c-3c97f6e63295",
   "metadata": {},
   "outputs": [
    {
     "name": "stdout",
     "output_type": "stream",
     "text": [
      "타입 : torch.LongTensor\n",
      "크기 : torch.Size([2, 3])\n",
      "값 : tensor([[1, 2, 3],\n",
      "        [4, 5, 6]])\n"
     ]
    }
   ],
   "source": [
    "x = x.long()\n",
    "describe(x)"
   ]
  },
  {
   "cell_type": "code",
   "execution_count": 41,
   "id": "ee900b65-69c5-4cf7-8509-ae40865b5ae5",
   "metadata": {},
   "outputs": [
    {
     "name": "stdout",
     "output_type": "stream",
     "text": [
      "타입 : torch.IntTensor\n",
      "크기 : torch.Size([2, 3])\n",
      "값 : tensor([[1, 2, 3],\n",
      "        [4, 5, 6]], dtype=torch.int32)\n"
     ]
    }
   ],
   "source": [
    "x = torch.tensor([[1,2,3],\n",
    "                 [4,5,6]], dtype=torch.int32)\n",
    "describe(x)"
   ]
  },
  {
   "cell_type": "code",
   "execution_count": 42,
   "id": "539f62a5-b8b9-491a-9f75-b3372e3ff24c",
   "metadata": {},
   "outputs": [
    {
     "name": "stdout",
     "output_type": "stream",
     "text": [
      "타입 : torch.FloatTensor\n",
      "크기 : torch.Size([2, 3])\n",
      "값 : tensor([[1., 2., 3.],\n",
      "        [4., 5., 6.]])\n"
     ]
    }
   ],
   "source": [
    "x = x.float()\n",
    "describe(x)"
   ]
  },
  {
   "cell_type": "markdown",
   "id": "9be168b2-9a08-4c79-9d9c-d84fa1f3547b",
   "metadata": {},
   "source": [
    "#### 텐서 연산"
   ]
  },
  {
   "cell_type": "code",
   "execution_count": 45,
   "id": "de49af84-c2e4-4198-9e4f-e043e280003b",
   "metadata": {},
   "outputs": [
    {
     "name": "stdout",
     "output_type": "stream",
     "text": [
      "타입 : torch.FloatTensor\n",
      "크기 : torch.Size([3, 2])\n",
      "값 : tensor([[-1.0569, -2.5825],\n",
      "        [ 0.0973, -0.3154],\n",
      "        [ 1.3468,  0.5846]])\n",
      "타입 : torch.FloatTensor\n",
      "크기 : torch.Size([3, 2])\n",
      "값 : tensor([[-2.1137, -5.1650],\n",
      "        [ 0.1946, -0.6307],\n",
      "        [ 2.6937,  1.1691]])\n",
      "타입 : torch.FloatTensor\n",
      "크기 : torch.Size([3, 2])\n",
      "값 : tensor([[-2.1137, -5.1650],\n",
      "        [ 0.1946, -0.6307],\n",
      "        [ 2.6937,  1.1691]])\n"
     ]
    }
   ],
   "source": [
    "x = torch.randn(3,2)\n",
    "describe(x)\n",
    "\n",
    "describe(torch.add(x,x)) # element-wise add\n",
    "\n",
    "describe(x + x)"
   ]
  },
  {
   "cell_type": "code",
   "execution_count": 61,
   "id": "6856a347-b1d1-4749-a372-1bca1227f6fe",
   "metadata": {},
   "outputs": [
    {
     "name": "stdout",
     "output_type": "stream",
     "text": [
      "타입 : torch.LongTensor\n",
      "크기 : torch.Size([6])\n",
      "값 : tensor([0, 1, 2, 3, 4, 5])\n",
      "타입 : torch.LongTensor\n",
      "크기 : torch.Size([2, 3])\n",
      "값 : tensor([[0, 1, 2],\n",
      "        [3, 4, 5]])\n",
      "타입 : torch.LongTensor\n",
      "크기 : torch.Size([3])\n",
      "값 : tensor([3, 5, 7])\n",
      "타입 : torch.LongTensor\n",
      "크기 : torch.Size([2])\n",
      "값 : tensor([ 3, 12])\n",
      "타입 : torch.LongTensor\n",
      "크기 : torch.Size([3, 2])\n",
      "값 : tensor([[0, 3],\n",
      "        [1, 4],\n",
      "        [2, 5]])\n"
     ]
    }
   ],
   "source": [
    "x = torch.arange(6)\n",
    "describe(x)\n",
    "\n",
    "x = x.view(2,3)\n",
    "describe(x)\n",
    "\n",
    "describe(torch.sum(x, dim=0)) # element-wise by row\n",
    "\n",
    "describe(torch.sum(x, dim=1)) # element-wise by columns\n",
    "\n",
    "describe(torch.transpose(x, 0, 1)) ## 0차원과 1차원을 바꿔라 : (2,3) -> (3,2)"
   ]
  },
  {
   "cell_type": "markdown",
   "id": "dfee0563-02ae-47f8-8acd-846dedb33980",
   "metadata": {},
   "source": [
    "#### 인덱싱, 슬라이싱, 연결"
   ]
  },
  {
   "cell_type": "code",
   "execution_count": 71,
   "id": "ef57be26-2a7f-44de-8898-9ea50fc8d345",
   "metadata": {},
   "outputs": [
    {
     "name": "stdout",
     "output_type": "stream",
     "text": [
      "타입 : torch.LongTensor\n",
      "크기 : torch.Size([2, 3])\n",
      "값 : tensor([[0, 1, 2],\n",
      "        [3, 4, 5]])\n",
      "타입 : torch.LongTensor\n",
      "크기 : torch.Size([1, 2])\n",
      "값 : tensor([[0, 1]])\n",
      "타입 : torch.LongTensor\n",
      "크기 : torch.Size([])\n",
      "값 : 1\n",
      "타입 : torch.LongTensor\n",
      "크기 : torch.Size([2, 2])\n",
      "값 : tensor([[0, 2],\n",
      "        [3, 5]])\n",
      "타입 : torch.LongTensor\n",
      "크기 : torch.Size([2, 3])\n",
      "값 : tensor([[0, 1, 2],\n",
      "        [0, 1, 2]])\n",
      "타입 : torch.LongTensor\n",
      "크기 : torch.Size([2])\n",
      "값 : tensor([0, 4])\n"
     ]
    }
   ],
   "source": [
    "x = torch.arange(6).view(2,3)\n",
    "describe(x)\n",
    "\n",
    "describe(x[:1, :2])\n",
    "\n",
    "describe(x[0, 1])\n",
    "\n",
    "indices = torch.LongTensor([0,2])\n",
    "describe(torch.index_select(x, dim=1, index=indices)) # dim=1 -> column 중에서, index=[0,2]를 뽑아라\n",
    "\n",
    "indices = torch.LongTensor([0,0])\n",
    "describe(torch.index_select(x, dim=0, index=indices)) # dim=0 -> row 중에서, index=[0,0]를 뽑아라\n",
    "\n",
    "row_indices = torch.arange(2).long() #[0,1]\n",
    "col_indices = torch.LongTensor([0,1])\n",
    "describe(x[row_indices, col_indices]) # [0,0] & [1,1]"
   ]
  },
  {
   "cell_type": "code",
   "execution_count": 76,
   "id": "a664033a-b135-4696-9a6d-2355f26deea8",
   "metadata": {},
   "outputs": [
    {
     "name": "stdout",
     "output_type": "stream",
     "text": [
      "타입 : torch.LongTensor\n",
      "크기 : torch.Size([2, 3])\n",
      "값 : tensor([[0, 1, 2],\n",
      "        [3, 4, 5]])\n",
      "타입 : torch.LongTensor\n",
      "크기 : torch.Size([4, 3])\n",
      "값 : tensor([[0, 1, 2],\n",
      "        [3, 4, 5],\n",
      "        [0, 1, 2],\n",
      "        [3, 4, 5]])\n",
      "타입 : torch.LongTensor\n",
      "크기 : torch.Size([2, 6])\n",
      "값 : tensor([[0, 1, 2, 0, 1, 2],\n",
      "        [3, 4, 5, 3, 4, 5]])\n",
      "타입 : torch.LongTensor\n",
      "크기 : torch.Size([2, 2, 3])\n",
      "값 : tensor([[[0, 1, 2],\n",
      "         [3, 4, 5]],\n",
      "\n",
      "        [[0, 1, 2],\n",
      "         [3, 4, 5]]])\n"
     ]
    }
   ],
   "source": [
    "# 텐서 연결\n",
    "\n",
    "x = torch.arange(6).view(2,3)\n",
    "describe(x)\n",
    "\n",
    "describe(torch.cat([x,x], dim=0))\n",
    "\n",
    "describe(torch.cat([x,x], dim=1))\n",
    "\n",
    "describe(torch.stack([x,x])) # 상위 차원이 추가됨"
   ]
  },
  {
   "cell_type": "code",
   "execution_count": 86,
   "id": "5a3fedae-b5d8-4c44-a1fc-e1277d021719",
   "metadata": {},
   "outputs": [
    {
     "name": "stdout",
     "output_type": "stream",
     "text": [
      "타입 : torch.FloatTensor\n",
      "크기 : torch.Size([2, 3])\n",
      "값 : tensor([[0., 1., 2.],\n",
      "        [3., 4., 5.]])\n",
      "타입 : torch.FloatTensor\n",
      "크기 : torch.Size([3, 2])\n",
      "값 : tensor([[1., 2.],\n",
      "        [1., 2.],\n",
      "        [1., 2.]])\n",
      "타입 : torch.FloatTensor\n",
      "크기 : torch.Size([2, 2])\n",
      "값 : tensor([[ 3.,  6.],\n",
      "        [12., 24.]])\n"
     ]
    }
   ],
   "source": [
    "# 행렬 곱\n",
    "\n",
    "x1 = torch.arange(6).view(2,3)\n",
    "x1 = torch.as_tensor(x1, dtype=torch.float32)\n",
    "describe(x1)\n",
    "\n",
    "x2 = torch.ones(3,2)\n",
    "x2[:,1] += 1\n",
    "describe(x2)\n",
    "\n",
    "describe(torch.mm(x1, x2))\n"
   ]
  },
  {
   "cell_type": "markdown",
   "id": "89a044fc-03a0-4852-892f-b397f1692ad3",
   "metadata": {},
   "source": [
    "#### 텐서와 계산 그래프"
   ]
  },
  {
   "cell_type": "code",
   "execution_count": 94,
   "id": "c3fd587d-bfc0-42e9-a7e5-0fc95b8cadcc",
   "metadata": {},
   "outputs": [
    {
     "name": "stdout",
     "output_type": "stream",
     "text": [
      "타입 : torch.FloatTensor\n",
      "크기 : torch.Size([2, 2])\n",
      "값 : tensor([[1., 1.],\n",
      "        [1., 1.]], requires_grad=True)\n",
      "타입 : torch.FloatTensor\n",
      "크기 : torch.Size([2, 2])\n",
      "값 : tensor([[21., 21.],\n",
      "        [21., 21.]], grad_fn=<AddBackward0>)\n",
      "타입 : torch.FloatTensor\n",
      "크기 : torch.Size([])\n",
      "값 : 21.0\n",
      "False\n"
     ]
    }
   ],
   "source": [
    "x = torch.ones(2, 2, requires_grad=True)\n",
    "describe(x)\n",
    "\n",
    "y = (x + 2) * (x + 5) + 3\n",
    "describe(y)\n",
    "\n",
    "z = y.mean()\n",
    "describe(z)\n",
    "z.backward()\n",
    "\n",
    "print(x.grad is None)"
   ]
  },
  {
   "cell_type": "markdown",
   "id": "f2d9bd73-8907-4f2d-9c44-032c56407403",
   "metadata": {},
   "source": [
    "#### CUDA 텐서"
   ]
  },
  {
   "cell_type": "code",
   "execution_count": 101,
   "id": "2d51988f-c81a-49b6-b64b-273c51ee3b22",
   "metadata": {},
   "outputs": [],
   "source": [
    "# cuda은 nvidia GPU에서만 지원\n",
    "\n",
    "device = torch.device(\"cuda\" if torch.cuda.is_available() else \"cpu\")"
   ]
  },
  {
   "cell_type": "markdown",
   "id": "2f68f92f-1758-4328-9f27-07a69c248830",
   "metadata": {},
   "source": [
    "#### 연습문제"
   ]
  },
  {
   "cell_type": "code",
   "execution_count": 143,
   "id": "dca7a8d3-b273-4eb2-a7d2-14875fcc4ee6",
   "metadata": {
    "tags": []
   },
   "outputs": [
    {
     "name": "stdout",
     "output_type": "stream",
     "text": [
      "타입 : torch.FloatTensor\n",
      "크기 : torch.Size([2, 3])\n",
      "값 : tensor([[1., 1., 1.],\n",
      "        [1., 1., 1.]])\n",
      "타입 : torch.FloatTensor\n",
      "크기 : torch.Size([1, 2, 3])\n",
      "값 : tensor([[[1., 1., 1.],\n",
      "         [1., 1., 1.]]])\n",
      "타입 : torch.FloatTensor\n",
      "크기 : torch.Size([2, 3])\n",
      "값 : tensor([[1., 1., 1.],\n",
      "        [1., 1., 1.]])\n",
      "타입 : torch.DoubleTensor\n",
      "크기 : torch.Size([5, 3])\n",
      "값 : tensor([[1.4355, 0.6062, 1.6022],\n",
      "        [2.9753, 2.0530, 3.4063],\n",
      "        [2.5424, 3.9850, 3.4173],\n",
      "        [1.5799, 2.0703, 2.8027],\n",
      "        [0.3183, 0.7218, 3.2113]], dtype=torch.float64)\n",
      "타입 : torch.FloatTensor\n",
      "크기 : torch.Size([3, 2])\n",
      "값 : tensor([[ 1.3830, -1.8450],\n",
      "        [-0.7944,  1.8517],\n",
      "        [ 0.4394,  2.1052]])\n",
      "타입 : torch.FloatTensor\n",
      "크기 : torch.Size([4, 3, 1])\n",
      "값 : tensor([[[ 1.3906e+00],\n",
      "         [-1.8450e+00],\n",
      "         [ 4.4842e-44]],\n",
      "\n",
      "        [[ 1.3906e+00],\n",
      "         [-1.8450e+00],\n",
      "         [ 4.4842e-44]],\n",
      "\n",
      "        [[ 1.3906e+00],\n",
      "         [-1.8450e+00],\n",
      "         [ 4.4842e-44]],\n",
      "\n",
      "        [[ 1.3906e+00],\n",
      "         [-1.8450e+00],\n",
      "         [ 4.4842e-44]]])\n",
      "타입 : torch.FloatTensor\n",
      "크기 : torch.Size([3, 4, 4])\n",
      "값 : tensor([[[1.7730, 1.8348, 1.8774, 1.3348],\n",
      "         [2.1898, 1.8530, 2.0553, 1.6706],\n",
      "         [1.8555, 1.8225, 1.8296, 1.3012],\n",
      "         [1.3035, 0.7787, 0.9471, 0.8933]],\n",
      "\n",
      "        [[1.0955, 1.4323, 0.8233, 0.8490],\n",
      "         [2.0440, 2.2615, 1.8003, 1.6107],\n",
      "         [1.5994, 2.1556, 1.2095, 1.1984],\n",
      "         [1.6081, 1.7847, 1.3968, 1.0762]],\n",
      "\n",
      "        [[1.6428, 1.0886, 0.9575, 1.8295],\n",
      "         [1.4948, 1.3944, 0.8594, 1.8525],\n",
      "         [1.7084, 1.0334, 0.9202, 1.8886],\n",
      "         [1.5813, 1.2957, 0.8689, 1.8545]]])\n",
      "타입 : torch.FloatTensor\n",
      "크기 : torch.Size([3, 4, 4])\n",
      "값 : tensor([[[1.8519, 1.7589, 1.3303, 1.9053],\n",
      "         [1.4375, 1.6310, 0.8657, 1.3154],\n",
      "         [0.7952, 0.9898, 0.4815, 0.9022],\n",
      "         [1.0185, 0.6536, 0.7616, 0.5141]],\n",
      "\n",
      "        [[1.2908, 0.9118, 1.0136, 0.9129],\n",
      "         [1.1090, 1.2236, 0.8057, 1.2237],\n",
      "         [0.5860, 1.0931, 0.4165, 1.1644],\n",
      "         [1.8992, 1.1387, 1.4869, 1.2590]],\n",
      "\n",
      "        [[0.8497, 0.7071, 0.5650, 0.6683],\n",
      "         [1.6296, 1.1062, 1.1691, 0.7114],\n",
      "         [0.8776, 1.1049, 0.5994, 0.9458],\n",
      "         [2.5376, 1.5441, 1.7978, 1.3222]]])\n"
     ]
    }
   ],
   "source": [
    "# 1. 2D 텐서를 만들고 차원 0 위치에 크기가 1인 차원을 추가하세요\n",
    "\n",
    "x = torch.ones(2,3)\n",
    "describe(x)\n",
    "x = x.unsqueeze(0)\n",
    "describe(x)\n",
    "\n",
    "# 2. 이전 텐서에 추가한 차원을 삭제하세요\n",
    "x = x.squeeze(0)\n",
    "describe(x)\n",
    "\n",
    "# 3. 범위가 [3,7)이고 크기가 5*3인 랜덤한 텐서를 만드세요\n",
    "npy = np.random.rand(5,3) * (7-3)\n",
    "x = torch.tensor(npy, dtype=torch.float64)\n",
    "describe(x)\n",
    "\n",
    "# 4. 정규분포를 사용해 텐서를 만드세요\n",
    "x = torch.randn((3,2))\n",
    "describe(x)\n",
    "\n",
    "# 5. 텐서 torch.Tensor([1, 1, 1, 0, 1])에서 0이 아닌 원소의 인덱스를 추출하세요\n",
    "x = torch.Tensor([1, 1, 1, 0, 1])\n",
    "torch.nonzero(x)\n",
    "\n",
    "# 6. 크기가 (3,1)인 랜덤한 텐서를 만들고 네 벌을 복사해 쌓으세요\n",
    "x = torch.Tensor(3,1)\n",
    "x = torch.stack([x,x,x,x])\n",
    "describe(x)\n",
    "\n",
    "# 7. 2차원 행렬 두개의 배치 행렬 곱셈을 계산하시오\n",
    "x = torch.rand(3,4,5)\n",
    "y = torch.rand(3,5,4)\n",
    "\n",
    "z = torch.bmm(x,y)\n",
    "describe(z)\n",
    "\n",
    "# 8. 3차원 행렬과 2차원 행렬의 배치 행렬 곱셈을 계산하시오\n",
    "x = torch.rand(3,4,5)\n",
    "y = torch.rand(5,4)\n",
    "\n",
    "z = torch.bmm(x, y.unsqueeze(0).expand(x.size(0), *y.size()))\n",
    "describe(z)\n"
   ]
  },
  {
   "cell_type": "code",
   "execution_count": null,
   "id": "86803e75-9865-42d8-afb9-ab74bf2cab81",
   "metadata": {},
   "outputs": [],
   "source": []
  }
 ],
 "metadata": {
  "kernelspec": {
   "display_name": "Python 3",
   "language": "python",
   "name": "python3"
  },
  "language_info": {
   "codemirror_mode": {
    "name": "ipython",
    "version": 3
   },
   "file_extension": ".py",
   "mimetype": "text/x-python",
   "name": "python",
   "nbconvert_exporter": "python",
   "pygments_lexer": "ipython3",
   "version": "3.6.7"
  }
 },
 "nbformat": 4,
 "nbformat_minor": 5
}
